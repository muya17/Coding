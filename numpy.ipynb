{
 "cells": [
  {
   "cell_type": "code",
   "execution_count": 28,
   "id": "6b34c9b8",
   "metadata": {},
   "outputs": [],
   "source": [
    "import numpy as np"
   ]
  },
  {
   "cell_type": "code",
   "execution_count": 29,
   "id": "3dd7149f",
   "metadata": {},
   "outputs": [
    {
     "name": "stdout",
     "output_type": "stream",
     "text": [
      "NumPy version: 1.26.4\n"
     ]
    }
   ],
   "source": [
    "print(\"NumPy version:\", np.__version__)"
   ]
  },
  {
   "cell_type": "code",
   "execution_count": 30,
   "id": "8d4baed1",
   "metadata": {},
   "outputs": [],
   "source": [
    "np?"
   ]
  },
  {
   "cell_type": "code",
   "execution_count": 31,
   "id": "e1816c28",
   "metadata": {},
   "outputs": [
    {
     "data": {
      "text/plain": [
       "array([[3.14, 3.14, 3.14, 3.14, 3.14],\n",
       "       [3.14, 3.14, 3.14, 3.14, 3.14],\n",
       "       [3.14, 3.14, 3.14, 3.14, 3.14]])"
      ]
     },
     "execution_count": 31,
     "metadata": {},
     "output_type": "execute_result"
    }
   ],
   "source": [
    "np.full((3, 5), 3.14)"
   ]
  },
  {
   "cell_type": "code",
   "execution_count": 32,
   "id": "3561a5f8",
   "metadata": {},
   "outputs": [
    {
     "data": {
      "text/plain": [
       "array([[3, 3, 3, 3, 3],\n",
       "       [3, 3, 3, 3, 3],\n",
       "       [3, 3, 3, 3, 3]])"
      ]
     },
     "execution_count": 32,
     "metadata": {},
     "output_type": "execute_result"
    }
   ],
   "source": [
    "np.full((3, 5), 3.14, dtype= 'int')"
   ]
  },
  {
   "cell_type": "code",
   "execution_count": 33,
   "id": "88ba28f6",
   "metadata": {},
   "outputs": [
    {
     "data": {
      "text/plain": [
       "array([10. ,  7.5,  5. ])"
      ]
     },
     "execution_count": 33,
     "metadata": {},
     "output_type": "execute_result"
    }
   ],
   "source": [
    "np.linspace(10, 5, 3)"
   ]
  },
  {
   "cell_type": "code",
   "execution_count": 34,
   "id": "cfe79318",
   "metadata": {},
   "outputs": [
    {
     "data": {
      "text/plain": [
       "array([[1., 0., 0., 0., 0.],\n",
       "       [0., 1., 0., 0., 0.],\n",
       "       [0., 0., 1., 0., 0.],\n",
       "       [0., 0., 0., 1., 0.],\n",
       "       [0., 0., 0., 0., 1.]])"
      ]
     },
     "execution_count": 34,
     "metadata": {},
     "output_type": "execute_result"
    }
   ],
   "source": [
    "np.eye(5)"
   ]
  },
  {
   "cell_type": "code",
   "execution_count": 35,
   "id": "22243f3c",
   "metadata": {},
   "outputs": [],
   "source": [
    "n = np.empty(5)"
   ]
  },
  {
   "cell_type": "code",
   "execution_count": 36,
   "id": "e6eb9a34",
   "metadata": {},
   "outputs": [],
   "source": [
    "np.empty?"
   ]
  },
  {
   "cell_type": "code",
   "execution_count": 37,
   "id": "3ca601ca",
   "metadata": {},
   "outputs": [
    {
     "data": {
      "text/plain": [
       "dtype('float64')"
      ]
     },
     "execution_count": 37,
     "metadata": {},
     "output_type": "execute_result"
    }
   ],
   "source": [
    "n.dtype"
   ]
  },
  {
   "cell_type": "code",
   "execution_count": 38,
   "id": "04c6d00b",
   "metadata": {},
   "outputs": [],
   "source": [
    "x = np.random.randint(20, size=(3,3))"
   ]
  },
  {
   "cell_type": "code",
   "execution_count": 39,
   "id": "3b9f2929",
   "metadata": {},
   "outputs": [
    {
     "data": {
      "text/plain": [
       "array([[13, 16,  1],\n",
       "       [ 5, 12,  2],\n",
       "       [18, 17, 10]])"
      ]
     },
     "execution_count": 39,
     "metadata": {},
     "output_type": "execute_result"
    }
   ],
   "source": [
    "x"
   ]
  },
  {
   "cell_type": "code",
   "execution_count": 40,
   "id": "2b23f222",
   "metadata": {},
   "outputs": [
    {
     "data": {
      "text/plain": [
       "13"
      ]
     },
     "execution_count": 40,
     "metadata": {},
     "output_type": "execute_result"
    }
   ],
   "source": [
    "x[0][0]"
   ]
  },
  {
   "cell_type": "code",
   "execution_count": 41,
   "id": "1b76805b",
   "metadata": {},
   "outputs": [
    {
     "data": {
      "text/plain": [
       "2"
      ]
     },
     "execution_count": 41,
     "metadata": {},
     "output_type": "execute_result"
    }
   ],
   "source": [
    "x[1][2]"
   ]
  },
  {
   "cell_type": "code",
   "execution_count": 42,
   "id": "f2be22f1",
   "metadata": {},
   "outputs": [],
   "source": [
    "grid = np.array([[1, 2, 3],\n",
    "                 [4, 5, 6]])"
   ]
  },
  {
   "cell_type": "code",
   "execution_count": 43,
   "id": "3f769060",
   "metadata": {},
   "outputs": [
    {
     "data": {
      "text/plain": [
       "array([[1, 2, 3],\n",
       "       [4, 5, 6],\n",
       "       [1, 2, 3],\n",
       "       [4, 5, 6]])"
      ]
     },
     "execution_count": 43,
     "metadata": {},
     "output_type": "execute_result"
    }
   ],
   "source": [
    "np.concatenate([grid, grid])"
   ]
  },
  {
   "cell_type": "code",
   "execution_count": 44,
   "id": "b7c41c20",
   "metadata": {},
   "outputs": [],
   "source": [
    "np.split?"
   ]
  },
  {
   "cell_type": "code",
   "execution_count": 45,
   "id": "8c937fc9",
   "metadata": {},
   "outputs": [
    {
     "data": {
      "text/plain": [
       "numpy.ndarray"
      ]
     },
     "execution_count": 45,
     "metadata": {},
     "output_type": "execute_result"
    }
   ],
   "source": [
    "np.ndarray"
   ]
  },
  {
   "cell_type": "code",
   "execution_count": 46,
   "id": "23683684",
   "metadata": {},
   "outputs": [
    {
     "data": {
      "text/plain": [
       "array([[ 0,  1,  2,  3,  4,  5],\n",
       "       [ 6,  7,  8,  9, 10, 11],\n",
       "       [12, 13, 14, 15, 16, 17],\n",
       "       [18, 19, 20, 21, 22, 23]])"
      ]
     },
     "execution_count": 46,
     "metadata": {},
     "output_type": "execute_result"
    }
   ],
   "source": [
    "grid = np.arange(24).reshape((4, 6))\n",
    "grid"
   ]
  },
  {
   "cell_type": "code",
   "execution_count": 49,
   "id": "f4281e64",
   "metadata": {},
   "outputs": [],
   "source": [
    "a, b =np.vsplit(grid,[1])"
   ]
  },
  {
   "cell_type": "code",
   "execution_count": 26,
   "id": "9ebd6616",
   "metadata": {},
   "outputs": [
    {
     "name": "stdout",
     "output_type": "stream",
     "text": [
      "[[ 0]\n",
      " [ 6]\n",
      " [12]\n",
      " [18]]\n",
      "[[ 1  2  3  4  5]\n",
      " [ 7  8  9 10 11]\n",
      " [13 14 15 16 17]\n",
      " [19 20 21 22 23]]\n"
     ]
    }
   ],
   "source": [
    "print(a)\n",
    "print(b)"
   ]
  },
  {
   "cell_type": "code",
   "execution_count": 51,
   "id": "b72c9843",
   "metadata": {},
   "outputs": [],
   "source": [
    "m= np.arange(1,4).reshape(3,1)\n",
    "u = np.arange(3)"
   ]
  },
  {
   "cell_type": "code",
   "execution_count": 52,
   "id": "56cafb35",
   "metadata": {},
   "outputs": [
    {
     "data": {
      "text/plain": [
       "array([[1],\n",
       "       [2],\n",
       "       [3]])"
      ]
     },
     "execution_count": 52,
     "metadata": {},
     "output_type": "execute_result"
    }
   ],
   "source": [
    "m"
   ]
  },
  {
   "cell_type": "code",
   "execution_count": 53,
   "id": "30a00117",
   "metadata": {},
   "outputs": [
    {
     "data": {
      "text/plain": [
       "array([0, 1, 2])"
      ]
     },
     "execution_count": 53,
     "metadata": {},
     "output_type": "execute_result"
    }
   ],
   "source": [
    "u"
   ]
  },
  {
   "cell_type": "code",
   "execution_count": 54,
   "id": "8e1d54a2",
   "metadata": {},
   "outputs": [
    {
     "data": {
      "text/plain": [
       "array([[1, 2, 3],\n",
       "       [2, 3, 4],\n",
       "       [3, 4, 5]])"
      ]
     },
     "execution_count": 54,
     "metadata": {},
     "output_type": "execute_result"
    }
   ],
   "source": [
    "u+m"
   ]
  },
  {
   "cell_type": "code",
   "execution_count": 55,
   "id": "141fbf0c",
   "metadata": {},
   "outputs": [
    {
     "data": {
      "text/plain": [
       "array([[0.70558171, 0.41834633, 0.36426117],\n",
       "       [0.732085  , 0.85580151, 0.85883601],\n",
       "       [0.0323916 , 0.44900097, 0.71422243],\n",
       "       [0.69129373, 0.619412  , 0.52141584],\n",
       "       [0.83289824, 0.1236178 , 0.1729459 ],\n",
       "       [0.68132568, 0.54920877, 0.11487639],\n",
       "       [0.58586074, 0.01747324, 0.57712123],\n",
       "       [0.77686923, 0.35955731, 0.68222862],\n",
       "       [0.18156877, 0.24260213, 0.78510439],\n",
       "       [0.85561126, 0.9157866 , 0.42436812]])"
      ]
     },
     "execution_count": 55,
     "metadata": {},
     "output_type": "execute_result"
    }
   ],
   "source": [
    "x =np.random.random((10,3))\n",
    "x"
   ]
  },
  {
   "cell_type": "code",
   "execution_count": 59,
   "id": "011b7e89",
   "metadata": {},
   "outputs": [
    {
     "data": {
      "text/plain": [
       "array([0.49606307, 0.81557417, 0.39853833, 0.61070719, 0.37648731,\n",
       "       0.44847028, 0.39348507, 0.60621839, 0.40309176, 0.73192199])"
      ]
     },
     "execution_count": 59,
     "metadata": {},
     "output_type": "execute_result"
    }
   ],
   "source": [
    "mean = x.mean(1)\n",
    "mean"
   ]
  },
  {
   "cell_type": "code",
   "execution_count": 60,
   "id": "4ddda112",
   "metadata": {},
   "outputs": [],
   "source": [
    "# x and y have 50 steps from 0 to 5\n",
    "x = np.linspace(0, 5, 50)\n",
    "y = np.linspace(0, 5, 50)[:, np.newaxis]\n",
    "\n",
    "z = np.sin(x) ** 10 + np.cos(10 + y * x) * np.cos(x)"
   ]
  },
  {
   "cell_type": "code",
   "execution_count": 61,
   "id": "ff498f09",
   "metadata": {},
   "outputs": [
    {
     "data": {
      "text/plain": [
       "(array([0.        , 0.10204082, 0.20408163, 0.30612245, 0.40816327,\n",
       "        0.51020408, 0.6122449 , 0.71428571, 0.81632653, 0.91836735,\n",
       "        1.02040816, 1.12244898, 1.2244898 , 1.32653061, 1.42857143,\n",
       "        1.53061224, 1.63265306, 1.73469388, 1.83673469, 1.93877551,\n",
       "        2.04081633, 2.14285714, 2.24489796, 2.34693878, 2.44897959,\n",
       "        2.55102041, 2.65306122, 2.75510204, 2.85714286, 2.95918367,\n",
       "        3.06122449, 3.16326531, 3.26530612, 3.36734694, 3.46938776,\n",
       "        3.57142857, 3.67346939, 3.7755102 , 3.87755102, 3.97959184,\n",
       "        4.08163265, 4.18367347, 4.28571429, 4.3877551 , 4.48979592,\n",
       "        4.59183673, 4.69387755, 4.79591837, 4.89795918, 5.        ]),\n",
       " array([[0.        ],\n",
       "        [0.10204082],\n",
       "        [0.20408163],\n",
       "        [0.30612245],\n",
       "        [0.40816327],\n",
       "        [0.51020408],\n",
       "        [0.6122449 ],\n",
       "        [0.71428571],\n",
       "        [0.81632653],\n",
       "        [0.91836735],\n",
       "        [1.02040816],\n",
       "        [1.12244898],\n",
       "        [1.2244898 ],\n",
       "        [1.32653061],\n",
       "        [1.42857143],\n",
       "        [1.53061224],\n",
       "        [1.63265306],\n",
       "        [1.73469388],\n",
       "        [1.83673469],\n",
       "        [1.93877551],\n",
       "        [2.04081633],\n",
       "        [2.14285714],\n",
       "        [2.24489796],\n",
       "        [2.34693878],\n",
       "        [2.44897959],\n",
       "        [2.55102041],\n",
       "        [2.65306122],\n",
       "        [2.75510204],\n",
       "        [2.85714286],\n",
       "        [2.95918367],\n",
       "        [3.06122449],\n",
       "        [3.16326531],\n",
       "        [3.26530612],\n",
       "        [3.36734694],\n",
       "        [3.46938776],\n",
       "        [3.57142857],\n",
       "        [3.67346939],\n",
       "        [3.7755102 ],\n",
       "        [3.87755102],\n",
       "        [3.97959184],\n",
       "        [4.08163265],\n",
       "        [4.18367347],\n",
       "        [4.28571429],\n",
       "        [4.3877551 ],\n",
       "        [4.48979592],\n",
       "        [4.59183673],\n",
       "        [4.69387755],\n",
       "        [4.79591837],\n",
       "        [4.89795918],\n",
       "        [5.        ]]),\n",
       " array([[-0.83907153, -0.83470697, -0.8216586 , ...,  0.8956708 ,\n",
       "          0.68617261,  0.41940746],\n",
       "        [-0.83907153, -0.82902677, -0.8103873 , ...,  0.92522407,\n",
       "          0.75321348,  0.52508175],\n",
       "        [-0.83907153, -0.82325668, -0.79876457, ...,  0.96427357,\n",
       "          0.84172689,  0.66446403],\n",
       "        ...,\n",
       "        [-0.83907153, -0.48233077, -0.01646558, ...,  0.96449925,\n",
       "          0.75196531,  0.41982581],\n",
       "        [-0.83907153, -0.47324558,  0.00392612, ...,  0.92542163,\n",
       "          0.68540362,  0.37440839],\n",
       "        [-0.83907153, -0.46410908,  0.02431613, ...,  0.89579384,\n",
       "          0.65690314,  0.40107702]]))"
      ]
     },
     "execution_count": 61,
     "metadata": {},
     "output_type": "execute_result"
    }
   ],
   "source": [
    "x , y , z"
   ]
  },
  {
   "cell_type": "code",
   "execution_count": 62,
   "id": "214e4530",
   "metadata": {},
   "outputs": [
    {
     "data": {
      "text/plain": [
       "array([[-0.83907153, -0.83470697, -0.8216586 , ...,  0.8956708 ,\n",
       "         0.68617261,  0.41940746],\n",
       "       [-0.83907153, -0.82902677, -0.8103873 , ...,  0.92522407,\n",
       "         0.75321348,  0.52508175],\n",
       "       [-0.83907153, -0.82325668, -0.79876457, ...,  0.96427357,\n",
       "         0.84172689,  0.66446403],\n",
       "       ...,\n",
       "       [-0.83907153, -0.48233077, -0.01646558, ...,  0.96449925,\n",
       "         0.75196531,  0.41982581],\n",
       "       [-0.83907153, -0.47324558,  0.00392612, ...,  0.92542163,\n",
       "         0.68540362,  0.37440839],\n",
       "       [-0.83907153, -0.46410908,  0.02431613, ...,  0.89579384,\n",
       "         0.65690314,  0.40107702]])"
      ]
     },
     "execution_count": 62,
     "metadata": {},
     "output_type": "execute_result"
    }
   ],
   "source": [
    "z"
   ]
  },
  {
   "cell_type": "code",
   "execution_count": 69,
   "id": "69127fff",
   "metadata": {},
   "outputs": [
    {
     "data": {
      "text/plain": [
       "array([[0.],\n",
       "       [0.],\n",
       "       [0.],\n",
       "       [0.],\n",
       "       [0.],\n",
       "       [0.]])"
      ]
     },
     "execution_count": 69,
     "metadata": {},
     "output_type": "execute_result"
    }
   ],
   "source": [
    "a = np.zeros(6)[:,np.newaxis]\n",
    "a"
   ]
  },
  {
   "cell_type": "code",
   "execution_count": 72,
   "id": "a08c3392",
   "metadata": {},
   "outputs": [
    {
     "data": {
      "text/plain": [
       "array([[[0.]],\n",
       "\n",
       "       [[0.]],\n",
       "\n",
       "       [[0.]],\n",
       "\n",
       "       [[0.]],\n",
       "\n",
       "       [[0.]],\n",
       "\n",
       "       [[0.]]])"
      ]
     },
     "execution_count": 72,
     "metadata": {},
     "output_type": "execute_result"
    }
   ],
   "source": [
    "b=a[:,np.newaxis]\n",
    "b"
   ]
  },
  {
   "cell_type": "code",
   "execution_count": 75,
   "id": "9137fc6b",
   "metadata": {},
   "outputs": [
    {
     "data": {
      "text/plain": [
       "3"
      ]
     },
     "execution_count": 75,
     "metadata": {},
     "output_type": "execute_result"
    }
   ],
   "source": [
    "b.ndim"
   ]
  },
  {
   "cell_type": "code",
   "execution_count": 76,
   "id": "6fd76f26",
   "metadata": {},
   "outputs": [
    {
     "data": {
      "text/plain": [
       "(6, 1, 1)"
      ]
     },
     "execution_count": 76,
     "metadata": {},
     "output_type": "execute_result"
    }
   ],
   "source": [
    "b.shape"
   ]
  },
  {
   "cell_type": "code",
   "execution_count": null,
   "id": "4430a1ce",
   "metadata": {},
   "outputs": [],
   "source": []
  }
 ],
 "metadata": {
  "kernelspec": {
   "display_name": "Python 3 (ipykernel)",
   "language": "python",
   "name": "python3"
  },
  "language_info": {
   "codemirror_mode": {
    "name": "ipython",
    "version": 3
   },
   "file_extension": ".py",
   "mimetype": "text/x-python",
   "name": "python",
   "nbconvert_exporter": "python",
   "pygments_lexer": "ipython3",
   "version": "3.11.7"
  }
 },
 "nbformat": 4,
 "nbformat_minor": 5
}
